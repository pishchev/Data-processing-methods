{
  "nbformat": 4,
  "nbformat_minor": 0,
  "metadata": {
    "colab": {
      "name": "Transcalency",
      "provenance": [],
      "collapsed_sections": []
    },
    "kernelspec": {
      "name": "python3",
      "display_name": "Python 3"
    },
    "language_info": {
      "name": "python"
    }
  },
  "cells": [
    {
      "cell_type": "code",
      "metadata": {
        "id": "oogDsROYFHvH"
      },
      "source": [
        "import numpy as np\n",
        "import scipy as sp\n",
        "import matplotlib.pyplot as plt\n",
        "import math\n",
        "from matplotlib.animation import FuncAnimation"
      ],
      "execution_count": null,
      "outputs": []
    },
    {
      "cell_type": "code",
      "metadata": {
        "id": "DoC4ZAmBMW0l"
      },
      "source": [
        "def ShowArr(arr):\n",
        "    plt.figure(figsize=(14,3))\n",
        "    axis = range(len(arr))\n",
        "    plt.plot( axis , arr,'*r-')\n",
        "    plt.grid(True)\n",
        "    plt.show()"
      ],
      "execution_count": null,
      "outputs": []
    },
    {
      "cell_type": "code",
      "metadata": {
        "id": "bEzmQU-tFvN8"
      },
      "source": [
        "class TranscalencyEquation:\n",
        "  def __init__(self , T , lenght, step , sigm ,t ,f, f1 , f2 , ext):\n",
        "\n",
        "    spaseSteps = int(lenght/step)\n",
        "    dt = step*step/ (2*sigm)\n",
        "    timeSteps = int(t/dt)\n",
        "    self.solution = np.zeros((timeSteps,spaseSteps))\n",
        "\n",
        "    for i in range(spaseSteps):\n",
        "      self.solution[0][i] = f(i*step) \n",
        "    for i in range(timeSteps):\n",
        "      self.solution[i][0] = f1(i*dt)\n",
        "      self.solution[i][spaseSteps - 1] = f2(i*dt)\n",
        "    for t in range(timeSteps - 1):\n",
        "      for x in range(1, spaseSteps - 1):  \n",
        "        self.solution[t + 1][x] = self.solution[t][x] + sigm * dt /(2*step) * \\\n",
        "                                (self.solution[t][x+1] - 2 * self.solution[t][x] + self.solution[t][x-1])\\\n",
        "                                 + ext(self.solution[t][x], t * dt, x * step) * dt\n",
        "\n",
        "  def solve(self):\n",
        "    print('Момент времени вблизи t = 0:')\n",
        "    ShowArr(self.solution[10])\n",
        "    print('Момент времени t = t_last:')\n",
        "    ShowArr(self.solution[self.solution.shape[0]-1])\n",
        "    \n",
        "  "
      ],
      "execution_count": null,
      "outputs": []
    },
    {
      "cell_type": "code",
      "metadata": {
        "colab": {
          "base_uri": "https://localhost:8080/",
          "height": 438
        },
        "id": "pB7vQ1NUJPc7",
        "outputId": "2b9af640-74dc-4f95-ec59-b6e1b8732d01"
      },
      "source": [
        "f = lambda x: 10\n",
        "f1 = lambda x: 10 + x\n",
        "f2 = lambda x: 10\n",
        "ext = lambda z,t,x: 0\n",
        "sol = TranscalencyEquation(10, 2, 0.1 , 1,5 ,  f,f1,f2 ,ext)\n",
        "sol.solve()"
      ],
      "execution_count": null,
      "outputs": [
        {
          "output_type": "stream",
          "text": [
            "Момент времени вблизи t = 0:\n"
          ],
          "name": "stdout"
        },
        {
          "output_type": "display_data",
          "data": {
            "image/png": "[encoded data removed]",
            "text/plain": [
              "<Figure size 1008x216 with 1 Axes>"
            ]
          },
          "metadata": {
            "tags": [],
            "needs_background": "light"
          }
        },
        {
          "output_type": "stream",
          "text": [
            "Момент времени t = t_last:\n"
          ],
          "name": "stdout"
        },
        {
          "output_type": "display_data",
          "data": {
            "image/png": "[encoded data removed]",
            "text/plain": [
              "<Figure size 1008x216 with 1 Axes>"
            ]
          },
          "metadata": {
            "tags": [],
            "needs_background": "light"
          }
        }
      ]
    }
  ]
}