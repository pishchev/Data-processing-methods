{
  "nbformat": 4,
  "nbformat_minor": 0,
  "metadata": {
    "colab": {
      "name": "IntegralMethods",
      "provenance": [],
      "collapsed_sections": []
    },
    "kernelspec": {
      "name": "python3",
      "display_name": "Python 3"
    },
    "language_info": {
      "name": "python"
    }
  },
  "cells": [
    {
      "cell_type": "code",
      "metadata": {
        "id": "Jeadf9IzT75e"
      },
      "source": [
        "import numpy as np\n",
        "from scipy.integrate import odeint\n",
        "import matplotlib.pyplot as plt\n",
        "import math\n",
        "import scipy.integrate as integrate\n",
        "import scipy.special as special"
      ],
      "execution_count": 1,
      "outputs": []
    },
    {
      "cell_type": "code",
      "metadata": {
        "id": "204lt_ssf3T0"
      },
      "source": [
        "a = -1.001\n",
        "b = 1.001\n",
        "h = 0.05\n",
        "Lambda = 1\n",
        "x=np.arange(a, b, h)"
      ],
      "execution_count": 2,
      "outputs": []
    },
    {
      "cell_type": "code",
      "metadata": {
        "id": "Zs_--M75CBbN"
      },
      "source": [
        "f = lambda x: 1\n",
        "f1 = lambda x: x\n",
        "f2 = lambda x: x*x\n",
        "\n",
        "p1 = lambda x: 1\n",
        "p2 = lambda x: x\n",
        "\n",
        "y_exact=lambda x: 1+6*x*x\n",
        "\n",
        "K = lambda x,s: x*x+x*s"
      ],
      "execution_count": 3,
      "outputs": []
    },
    {
      "cell_type": "code",
      "metadata": {
        "id": "JpGo5Cfl6aPT"
      },
      "source": [
        "def Galerkin_Petrov():\n",
        "    aij = []\n",
        "    bi = []\n",
        "\n",
        "    aij.append([])   \n",
        "    aij[0].append(integrate.quad(lambda t: f1(t)*p1(t), a, b)[0]-Lambda*integrate.dblquad(lambda t,s: (p1(t)*K(t,s)*f1(s)), a, b, lambda t:a, lambda t:b)[0])\n",
        "    aij[0].append(integrate.quad(lambda t: f1(t)*p2(t), a, b)[0]-Lambda*integrate.dblquad(lambda t,s: (p2(t)*K(t,s)*f1(s)), a, b, lambda t:a, lambda t:b)[0])\n",
        "    aij.append([])\n",
        "    aij[1].append(integrate.quad(lambda t: f2(t)*p1(t), a, b)[0]-Lambda*integrate.dblquad(lambda t,s: (p1(t)*K(t,s)*f2(s)), a, b, lambda t:a, lambda t:b)[0])\n",
        "    aij[1].append(integrate.quad(lambda t: f2(t)*p2(t), a, b)[0]-Lambda*integrate.dblquad(lambda t,s: (p2(t)*K(t,s)*f2(s)), a, b, lambda t:a, lambda t:b)[0])\n",
        " \n",
        "    bi.append(Lambda*integrate.dblquad(lambda t,s: (p1(t)*K(t,s)*f(s)), a, b, lambda t:a, lambda t:b)[0])\n",
        "    bi.append(Lambda*integrate.dblquad(lambda t,s: (p2(t)*K(t,s)*f(s)), a, b, lambda t:a, lambda t:b)[0])\n",
        "    \n",
        "    ci = np.linalg.solve(np.asarray(aij), np.asarray(bi))\n",
        "    return ci"
      ],
      "execution_count": 4,
      "outputs": []
    },
    {
      "cell_type": "code",
      "metadata": {
        "colab": {
          "base_uri": "https://localhost:8080/",
          "height": 280
        },
        "id": "SFJs9QldE3GG",
        "outputId": "ed261728-c560-4095-db84-3d0b006ba45e"
      },
      "source": [
        "ci = Galerkin_Petrov()\n",
        "\n",
        "y = y_exact(x)\n",
        "y_approx = 1+ci[0]*f1(x)+ci[1]*f2(x)\n",
        "\n",
        "plt.plot(x, y, '-g',linewidth=2, label='y_exact')\n",
        "plt.plot(x, y_approx, 'or', label='y_approx')\n",
        "plt.xlabel(\"X\")\n",
        "plt.ylabel(\"y\")\n",
        "plt.legend('l',fontsize=12)\n",
        "plt.legend(bbox_to_anchor=(1, 1), loc='best')\n",
        "plt.ylim([0,max(y)+0.1])\n",
        "plt.show()"
      ],
      "execution_count": 5,
      "outputs": [
        {
          "output_type": "display_data",
          "data": {
            "image/png": "[encoded data removed]",
            "text/plain": [
              "<Figure size 432x288 with 1 Axes>"
            ]
          },
          "metadata": {
            "tags": [],
            "needs_background": "light"
          }
        }
      ]
    },
    {
      "cell_type": "code",
      "metadata": {
        "id": "wUp_lJA_hR05"
      },
      "source": [
        "def Galerkin_Bubnov():\n",
        "    aij = []\n",
        "    bi = []\n",
        "\n",
        "    aij.append([])   \n",
        "    aij[0].append(integrate.quad(lambda t: f1(t)*f1(t), a, b)[0]-Lambda*integrate.dblquad(lambda t,s: (f1(t)*K(t,s)*f1(s)), a, b, lambda t:a, lambda t:b)[0])\n",
        "    aij[0].append(integrate.quad(lambda t: f1(t)*f2(t), a, b)[0]-Lambda*integrate.dblquad(lambda t,s: (f1(t)*K(t,s)*f2(s)), a, b, lambda t:a, lambda t:b)[0])\n",
        "    aij.append([])   \n",
        "    aij[1].append(integrate.quad(lambda t: f2(t)*f1(t), a, b)[0]-Lambda*integrate.dblquad(lambda t,s: (f2(t)*K(t,s)*f1(s)), a, b, lambda t:a, lambda t:b)[0])\n",
        "    aij[1].append(integrate.quad(lambda t: f2(t)*f2(t), a, b)[0]-Lambda*integrate.dblquad(lambda t,s: (f2(t)*K(t,s)*f2(s)), a, b, lambda t:a, lambda t:b)[0])\n",
        " \n",
        "    bi.append(Lambda*integrate.dblquad(lambda t,s: (f1(t)*K(t,s)*f(s)), a, b, lambda t:a, lambda t:b)[0])\n",
        "    bi.append(Lambda*integrate.dblquad(lambda t,s: (f2(t)*K(t,s)*f(s)), a, b, lambda t:a, lambda t:b)[0])\n",
        "    \n",
        "    ci = np.linalg.solve(np.asarray(aij), np.asarray(bi))\n",
        "    return ci"
      ],
      "execution_count": 6,
      "outputs": []
    },
    {
      "cell_type": "code",
      "metadata": {
        "id": "IcNG6Hqygl3y",
        "colab": {
          "base_uri": "https://localhost:8080/",
          "height": 280
        },
        "outputId": "cddff409-3ea3-4912-aa2f-361ac67f8af8"
      },
      "source": [
        "ci = Galerkin_Bubnov()\n",
        "\n",
        "y = y_exact(x)\n",
        "y_approx = 1+ci[0]*f1(x)+ci[1]*f2(x)\n",
        "\n",
        "plt.plot(x, y, '-g',linewidth=2, label='y_exact')\n",
        "plt.plot(x, y_approx, 'or', label='y_approx')\n",
        "plt.xlabel(\"X\")\n",
        "plt.ylabel(\"y\")\n",
        "plt.legend('l',fontsize=12)\n",
        "plt.legend(bbox_to_anchor=(1, 1), loc='best')\n",
        "plt.ylim([0,max(y)+0.1])\n",
        "plt.show()"
      ],
      "execution_count": 7,
      "outputs": [
        {
          "output_type": "display_data",
          "data": {
            "image/png": "[encoded data removed]",
            "text/plain": [
              "<Figure size 432x288 with 1 Axes>"
            ]
          },
          "metadata": {
            "tags": [],
            "needs_background": "light"
          }
        }
      ]
    },
    {
      "cell_type": "code",
      "metadata": {
        "id": "_YayiJnsII-2"
      },
      "source": [
        ""
      ],
      "execution_count": 7,
      "outputs": []
    }
  ]
}